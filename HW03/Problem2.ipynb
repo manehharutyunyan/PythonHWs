{
 "cells": [
  {
   "cell_type": "code",
   "execution_count": 27,
   "metadata": {},
   "outputs": [],
   "source": [
    "class Person:\n",
    "    \n",
    "    def __init__(self, name, last_name, age, gender, student, password): #receives instance 'self' as argument\n",
    "        self.name = name\n",
    "        self.last_name = last_name\n",
    "        self.age = age\n",
    "        self.gender = gender\n",
    "        self.student = student\n",
    "        self.__password = password\n",
    "        \n",
    "    def Greeting(self, second_person):\n",
    "        print('Welcome dear ' + second_person.name)\n",
    "        \n",
    "    def Goodbye(self):\n",
    "        print('Bye everyone!')\n",
    "        \n",
    "    def Favourite_num(self, num1):\n",
    "        print('My favourite number is ' + str(num1))\n",
    "        \n",
    "    def Read_file(self, filename):\n",
    "        filename = filename + '.txt'\n",
    "        f = open(filename, \"r\")\n",
    "        print(f.read())\n",
    "    \n",
    "    def get_pass(self):\n",
    "        return self.__password\n",
    "\n",
    "    def set_pass(self, password):\n",
    "        self.__password = password"
   ]
  },
  {
   "cell_type": "code",
   "execution_count": 28,
   "metadata": {},
   "outputs": [
    {
     "name": "stdout",
     "output_type": "stream",
     "text": [
      "Welcome dear Bob\n",
      "Bye everyone!\n",
      "My favourite number is 4\n",
      "soothecontributetrustmaturesloppytenseimprison\n",
      "resonantcautiousvacationhallpointlessparchedcomeceleryfingerconfesslittledimenodwork\n"
     ]
    }
   ],
   "source": [
    "p1 = Person('Ann', 'Smith', 16, 'female', True, 'pass1234')\n",
    "p2 = Person('Bob', 'Smith', 15, 'male', True, 'pass1234')\n",
    "\n",
    "p1.Greeting(p2)\n",
    "p1.Goodbye()\n",
    "p1.Favourite_num(4)\n",
    "p1.get_pass()\n",
    "p1.set_pass('1234pass')\n",
    "p1.get_pass()\n",
    "p1.Read_file('test')"
   ]
  },
  {
   "cell_type": "code",
   "execution_count": 26,
   "metadata": {},
   "outputs": [
    {
     "name": "stdout",
     "output_type": "stream",
     "text": [
      "soothecontributetrustmaturesloppytenseimprison\n",
      "resonantcautiousvacationhallpointlessparchedcomeceleryfingerconfesslittledimenodwork\n"
     ]
    }
   ],
   "source": [
    "f = open(\"test.txt\", \"r\")\n",
    "print(f.read())"
   ]
  }
 ],
 "metadata": {
  "kernelspec": {
   "display_name": "Python 3",
   "language": "python",
   "name": "python3"
  },
  "language_info": {
   "codemirror_mode": {
    "name": "ipython",
    "version": 3
   },
   "file_extension": ".py",
   "mimetype": "text/x-python",
   "name": "python",
   "nbconvert_exporter": "python",
   "pygments_lexer": "ipython3",
   "version": "3.8.3"
  }
 },
 "nbformat": 4,
 "nbformat_minor": 4
}
