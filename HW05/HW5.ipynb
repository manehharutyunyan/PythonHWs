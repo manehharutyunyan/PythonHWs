{
 "cells": [
  {
   "cell_type": "code",
   "execution_count": 10,
   "metadata": {},
   "outputs": [],
   "source": [
    "def div(x, y):\n",
    "    assert y != 0, \"Can’t divide\"\n",
    "    return x/y"
   ]
  },
  {
   "cell_type": "code",
   "execution_count": 12,
   "metadata": {},
   "outputs": [
    {
     "data": {
      "text/plain": [
       "2.0"
      ]
     },
     "execution_count": 12,
     "metadata": {},
     "output_type": "execute_result"
    }
   ],
   "source": [
    "div(8, 4)"
   ]
  },
  {
   "cell_type": "code",
   "execution_count": 27,
   "metadata": {},
   "outputs": [],
   "source": [
    "list = ['a', 0, 2]\n",
    "\n",
    "def reverse(list):\n",
    "    for i in range(len(list)):\n",
    "        print('the current entry of the list:' + str(list[i]))\n",
    "        try:\n",
    "            print('The reciprocal of {} is {}'.format(list[i], 1/list[i]))\n",
    "        except Exception as e:\n",
    "            print('Oops! {}'.format(e))\n",
    "            "
   ]
  },
  {
   "cell_type": "code",
   "execution_count": 28,
   "metadata": {},
   "outputs": [
    {
     "name": "stdout",
     "output_type": "stream",
     "text": [
      "the current entry of the list:a\n",
      "Oops! unsupported operand type(s) for /: 'int' and 'str'\n",
      "the current entry of the list:0\n",
      "Oops! division by zero\n",
      "the current entry of the list:2\n",
      "The reciprocal of 2 is 0.5\n"
     ]
    }
   ],
   "source": [
    "reverse(list)"
   ]
  },
  {
   "cell_type": "code",
   "execution_count": 49,
   "metadata": {},
   "outputs": [],
   "source": [
    "import datetime\n",
    "\n",
    "class Person:\n",
    "    \n",
    "    def __init__(self, name, last_name, age, gender, student, password): \n",
    "        self.name = name\n",
    "        self.last_name = last_name\n",
    "        self.age = age\n",
    "        self.gender = gender\n",
    "        assert(student == True or student == False), 'students value need to be boolean'\n",
    "        self.student = student\n",
    "        self.__password = password\n",
    "        \n",
    "    def Greeting(self, second_person):\n",
    "        print('Welcome dear ' + second_person.name)\n",
    "        \n",
    "    def Goodbye(self):\n",
    "        return 'Bye everyone!'\n",
    "        \n",
    "    def Favourite_num(self, num1):\n",
    "        try:\n",
    "            return 'My favourite number is ' + float(num1)\n",
    "        except Exception as e:\n",
    "            print(e)\n",
    "        \n",
    "    def Read_file(self, filename):\n",
    "        try:\n",
    "            filename = filename + '.txt'\n",
    "            f = open(filename, \"r\")\n",
    "            print(f.read())\n",
    "        except Exception as e:\n",
    "            print(e)\n",
    "    \n",
    "    def get_pass(self):\n",
    "        return self.__password"
   ]
  },
  {
   "cell_type": "code",
   "execution_count": 50,
   "metadata": {},
   "outputs": [
    {
     "name": "stdout",
     "output_type": "stream",
     "text": [
      "Welcome dear Bob\n",
      "Bye everyone!\n",
      "can only concatenate str (not \"float\") to str\n",
      "None\n",
      "[Errno 2] No such file or directory: 'test.txt'\n"
     ]
    }
   ],
   "source": [
    "p1 = Person('Ann', 'Smith', 16, 'female', True, 'pass1234')\n",
    "p2 = Person('Bob', 'Smith', 15, 'male', True, 'pass1234')\n",
    "p1.Greeting(p2)\n",
    "print(p1.Goodbye())\n",
    "print(p1.Favourite_num(4))\n",
    "\n",
    "p1.Read_file('test')"
   ]
  }
 ],
 "metadata": {
  "kernelspec": {
   "display_name": "Python 3",
   "language": "python",
   "name": "python3"
  },
  "language_info": {
   "codemirror_mode": {
    "name": "ipython",
    "version": 3
   },
   "file_extension": ".py",
   "mimetype": "text/x-python",
   "name": "python",
   "nbconvert_exporter": "python",
   "pygments_lexer": "ipython3",
   "version": "3.8.3"
  }
 },
 "nbformat": 4,
 "nbformat_minor": 4
}
