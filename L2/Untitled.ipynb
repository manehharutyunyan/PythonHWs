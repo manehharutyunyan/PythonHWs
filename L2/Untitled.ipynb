{
 "cells": [
  {
   "cell_type": "code",
   "execution_count": 16,
   "metadata": {},
   "outputs": [],
   "source": [
    "import cv2 as cv"
   ]
  },
  {
   "cell_type": "code",
   "execution_count": 18,
   "metadata": {},
   "outputs": [
    {
     "data": {
      "text/plain": [
       "-1"
      ]
     },
     "execution_count": 18,
     "metadata": {},
     "output_type": "execute_result"
    }
   ],
   "source": [
    "img = cv.imread('pic1.jpg') #3 channel image blue-green-red (bgr)\n",
    "\n",
    "cv.imshow('pic1', img)\n",
    "\n",
    "gray = cv.cvtColor(img, cv.COLOR_BGR2GRAY)\n",
    "cv.imshow('Gray', gray)\n",
    "cv.waitKey(0)"
   ]
  },
  {
   "cell_type": "markdown",
   "metadata": {},
   "source": [
    "Problem2"
   ]
  },
  {
   "cell_type": "code",
   "execution_count": 21,
   "metadata": {},
   "outputs": [
    {
     "data": {
      "text/plain": [
       "-1"
      ]
     },
     "execution_count": 21,
     "metadata": {},
     "output_type": "execute_result"
    }
   ],
   "source": [
    "img = cv.imread('pic2.jpg') \n",
    "cv.imshow('pic22', img)\n",
    "\n",
    "blur1 = cv.GaussianBlur(img, (3, 3), cv.BORDER_DEFAULT) \n",
    "blur2 = cv.GaussianBlur(img, (11, 11), cv.BORDER_DEFAULT) \n",
    "\n",
    "cv.imshow('Blur3', blur1)\n",
    "cv.imshow('Blur11', blur2)\n",
    "\n",
    "cv.waitKey(0)"
   ]
  },
  {
   "cell_type": "markdown",
   "metadata": {},
   "source": [
    "Problem3"
   ]
  },
  {
   "cell_type": "code",
   "execution_count": null,
   "metadata": {},
   "outputs": [],
   "source": [
    "cv.imshow(canny2)"
   ]
  },
  {
   "cell_type": "markdown",
   "metadata": {},
   "source": [
    "Problem4"
   ]
  },
  {
   "cell_type": "code",
   "execution_count": 22,
   "metadata": {},
   "outputs": [],
   "source": [
    "img = cv.imread('pic2.jpg') \n",
    "cv.imshow('pic2', img)\n",
    "\n",
    "resize = cv.resize(img, (img.shape[0]*2, img.shape[0]), interpolation = cv.INTER_AREA)\n",
    "\n",
    "resize2 = cv.resize(img, (img.shape[0]*2, img.shape[0]), interpolation = cv. INTER_CUBIC)\n"
   ]
  },
  {
   "cell_type": "markdown",
   "metadata": {},
   "source": [
    "Problem5"
   ]
  },
  {
   "cell_type": "code",
   "execution_count": 3,
   "metadata": {},
   "outputs": [],
   "source": [
    "import cv2 as cv\n",
    "import numpy as np\n",
    "\n",
    "def translate(img, x, y): \n",
    "    \n",
    "    transMat = np.float32([[1, 0, x], [0, 1, y]]) #translation matrix\n",
    "    dimentions = (img.shape[1], img.shape[0]) #(width, height)\n",
    "    \n",
    "    return cv.warpAffine(img, transMat, dimentions)\n",
    "\n",
    "def rotate(img, angle, rotPoint = None): #assume that None - rotating around the center\n",
    "    \n",
    "    (height, width) = (img.shape[0], img.shape[1])\n",
    "    \n",
    "    if rotPoint == None:\n",
    "        rotPoint = (width//2, height//2)\n",
    "        \n",
    "    rotMat = cv.getRotationMatrix2D(rotPoint, angle, 1.0) # 1.0 - scale\n",
    "    dimentions = (width, height)\n",
    "    \n",
    "    return cv.warpAffine(img, rotMat, dimentions)\n",
    "\n",
    "#flip = cv.flip(img, -1) "
   ]
  },
  {
   "cell_type": "code",
   "execution_count": null,
   "metadata": {},
   "outputs": [],
   "source": [
    "img = cv.imread('pic2.jpg') \n",
    "cv.imshow('pic2', img)\n",
    "\n",
    "img2 = translate(img, 200, 50)\n",
    "cv.imshow('shifted', img2)\n",
    "\n",
    "img3 = rotate(img2, 50, (img.shape[1]//2, img.shape[0]//2))\n",
    "cv.imshow('rorated', img3)\n",
    "\n",
    "img4 = cv.flip(img3, -1)\n",
    "cv.imshow('flipped', img4)\n",
    "\n",
    "cv.waitKey(0)"
   ]
  },
  {
   "cell_type": "markdown",
   "metadata": {},
   "source": [
    "Problem6"
   ]
  },
  {
   "cell_type": "code",
   "execution_count": 12,
   "metadata": {},
   "outputs": [
    {
     "data": {
      "text/plain": [
       "-1"
      ]
     },
     "execution_count": 12,
     "metadata": {},
     "output_type": "execute_result"
    }
   ],
   "source": [
    "import cv2 as cv\n",
    "import numpy as np\n",
    "\n",
    "img = cv.imread('pic3.jpg')\n",
    "cv.imshow('pic', img)\n",
    "\n",
    "canny = cv.Canny(img, 125, 175)\n",
    "contours, hierarchies = cv.findContours(canny, cv.RETR_LIST, cv.CHAIN_APPROX_SIMPLE)\n",
    "\n",
    "blank = np.zeros(img.shape, dtype = 'uint8')\n",
    "\n",
    "cv.drawContours(blank, contours, -1, (0, 0, 255), 1) \n",
    "cv.imshow('contours drawn1', blank)\n",
    "\n",
    "\n",
    "img_gray = cv.cvtColor(img, cv.COLOR_BGR2GRAY)\n",
    "blur = cv.GaussianBlur(img_gray, (3, 3), cv.BORDER_DEFAULT)\n",
    "canny2 = cv.Canny(blur, 125, 175)\n",
    "\n",
    "contours2, hierarchies2 = cv.findContours(canny2, cv.RETR_LIST, cv.CHAIN_APPROX_NONE)\n",
    "\n",
    "\n",
    "blank2 = np.zeros(img.shape, dtype = 'uint8')\n",
    "cv.drawContours(blank2, contours2, -1, (0, 0, 255), 1) \n",
    "cv.imshow('contours drawn2', blank2)\n",
    "\n",
    "cv.waitKey(0)\n"
   ]
  }
 ],
 "metadata": {
  "kernelspec": {
   "display_name": "Python 3",
   "language": "python",
   "name": "python3"
  },
  "language_info": {
   "codemirror_mode": {
    "name": "ipython",
    "version": 3
   },
   "file_extension": ".py",
   "mimetype": "text/x-python",
   "name": "python",
   "nbconvert_exporter": "python",
   "pygments_lexer": "ipython3",
   "version": "3.8.3"
  }
 },
 "nbformat": 4,
 "nbformat_minor": 4
}
