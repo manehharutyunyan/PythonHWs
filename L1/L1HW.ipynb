{
 "cells": [
  {
   "cell_type": "code",
   "execution_count": 2,
   "metadata": {},
   "outputs": [],
   "source": [
    "import cv2 as cv"
   ]
  },
  {
   "cell_type": "markdown",
   "metadata": {},
   "source": [
    "Problem 1"
   ]
  },
  {
   "cell_type": "code",
   "execution_count": 3,
   "metadata": {},
   "outputs": [],
   "source": [
    "pic1 = cv.imread('pic1.jpg')\n",
    "pic2 = cv.imread('pic2.jpg')\n",
    "pic3 = cv.imread('pic3.jpg')\n",
    "\n",
    "\n",
    "cv.imshow('pic1', pic1)\n",
    "cv.waitKey(0)\n",
    "cv.destroyWindow('pic1')\n",
    "\n",
    "cv.imshow('pic2', pic2)\n",
    "cv.imshow('pic3', pic3)"
   ]
  },
  {
   "cell_type": "code",
   "execution_count": null,
   "metadata": {},
   "outputs": [],
   "source": [
    "\n",
    "def rescaleFrame(frame, scale = 0.75):\n",
    "    \n",
    "    width = int(frame.shape[1] * scale)\n",
    "    height = int(frame.shape[0] * scale)\n",
    "    dimensions = (width, height)\n",
    "    \n",
    "    return cv.resize(frame, dimensions, interpolation=cv.INTER_AREA) #will talk more about this later"
   ]
  },
  {
   "cell_type": "markdown",
   "metadata": {},
   "source": [
    "Problem2"
   ]
  },
  {
   "cell_type": "code",
   "execution_count": null,
   "metadata": {},
   "outputs": [],
   "source": [
    "import cv2 as cv\n",
    "\n",
    "capture = cv.VideoCapture('vid1.mp4')\n",
    "\n",
    "while True:\n",
    "    isTrue, frame = capture.read() \n",
    "    \n",
    "    if isTrue:\n",
    "        cv.imshow('Video', frame)\n",
    "    else:\n",
    "        print('empty frame')\n",
    "        exit(1)\n",
    "    \n",
    "    if cv.waitKey(20) & 0xFF == ord('d'):\n",
    "        break\n",
    "\n",
    "capture.release()\n",
    "cv.destroyAllWindows()\n",
    "    \n",
    "cv.waitKey(0)"
   ]
  },
  {
   "cell_type": "markdown",
   "metadata": {},
   "source": [
    "Problem3"
   ]
  },
  {
   "cell_type": "code",
   "execution_count": 19,
   "metadata": {},
   "outputs": [
    {
     "data": {
      "text/plain": [
       "-1"
      ]
     },
     "execution_count": 19,
     "metadata": {},
     "output_type": "execute_result"
    }
   ],
   "source": [
    "def rescaleFrame(frame, scale = 0.5):\n",
    "    \n",
    "    width = int(frame.shape[1] * scale)\n",
    "    height = int(frame.shape[0] * scale)\n",
    "    dimensions = (width, height)\n",
    "    \n",
    "    return cv.resize(frame, dimensions, interpolation=cv.INTER_AREA) #will talk more about this later\n",
    "\n",
    "img = cv.imread('pic1.jpg')\n",
    "\n",
    "img_rescaled = rescaleFrame(img)\n",
    "\n",
    "cv.imshow('pic1', img)\n",
    "cv.imshow('pic1_rescaled', img_rescaled)\n",
    "\n",
    "\n",
    "cv.waitKey(0)"
   ]
  },
  {
   "cell_type": "markdown",
   "metadata": {},
   "source": [
    "Problem4"
   ]
  },
  {
   "cell_type": "code",
   "execution_count": null,
   "metadata": {},
   "outputs": [],
   "source": [
    "def rescaleFrame(frame, scale = 0.75):\n",
    "    \n",
    "    width = int(frame.shape[1] * scale)\n",
    "    height = int(frame.shape[0] * scale)\n",
    "    dimensions = (width, height)\n",
    "    \n",
    "    return cv.resize(frame, dimensions, interpolation=cv.INTER_AREA) \n",
    "\n",
    "capture = cv.VideoCapture('vid1.mp4')\n",
    "\n",
    "\n",
    "while True:\n",
    "    isTrue, frame = capture.read() \n",
    "    \n",
    "    \n",
    "    if frame is not None: \n",
    "        frame_rescaled = rescaleFrame(frame, 0.5)\n",
    "        cv.imshow('vid1', frame)\n",
    "        cv.imshow('vid1_rescaled', frame_rescaled)\n",
    "    else:\n",
    "        print('empty frame')\n",
    "        exit(1)\n",
    "    \n",
    "    if cv.waitKey(20) & 0xFF == ord('d'):\n",
    "        break\n",
    "\n",
    "apture.release()\n",
    "#cv.destroyAllWindows() \n",
    "    \n",
    "cv.waitKey(0)"
   ]
  },
  {
   "cell_type": "markdown",
   "metadata": {},
   "source": [
    "Problem5"
   ]
  },
  {
   "cell_type": "code",
   "execution_count": null,
   "metadata": {},
   "outputs": [],
   "source": [
    "new_h = pic2.shape[0]//2\n",
    "new_w = pic2.shape[1]//2\n",
    "\n",
    "center = (new_h, new_w)\n",
    "\n",
    "cv.circle(pic2, center, min(pic2.shape[0]//4, pic2.shape[1]//4), (0, 0, 255), thickness = -1)\n",
    "cv.imshow('pic2_circle', pic2)\n",
    "pic2 = cv.imread('pic2.jpg')\n",
    "cv.imshow('Original', pic2)\n",
    "cv.waitKey(0)"
   ]
  },
  {
   "cell_type": "markdown",
   "metadata": {},
   "source": [
    "Problem6"
   ]
  },
  {
   "cell_type": "code",
   "execution_count": 7,
   "metadata": {},
   "outputs": [
    {
     "data": {
      "text/plain": [
       "-1"
      ]
     },
     "execution_count": 7,
     "metadata": {},
     "output_type": "execute_result"
    }
   ],
   "source": [
    "cv.rectangle(pic2, (pic2.shape[1]//4,pic2.shape[0]//4), (pic2.shape[1]//2, pic2.shape[0]//2), (0, 128, 255), thickness = 2)\n",
    "cv.imshow('Rectangle', pic2)\n",
    "pic2 = cv.imread('pic2.jpg')\n",
    "cv.imshow('Original', pic2)\n",
    "cv.waitKey(0)"
   ]
  },
  {
   "cell_type": "code",
   "execution_count": 9,
   "metadata": {},
   "outputs": [
    {
     "data": {
      "text/plain": [
       "-1"
      ]
     },
     "execution_count": 9,
     "metadata": {},
     "output_type": "execute_result"
    }
   ],
   "source": [
    "cv.line(pic3, (pic3.shape[1]//4,pic3.shape[0]//4), (pic3.shape[1]//2, pic3.shape[0]//2), (0, 128, 255), thickness = 2)\n",
    "cv.imshow('Rectangle', pic3)\n",
    "pic3 = cv.imread('pic2.jpg')\n",
    "cv.imshow('Original', pic3)\n",
    "cv.waitKey(0)"
   ]
  }
 ],
 "metadata": {
  "kernelspec": {
   "display_name": "Python 3",
   "language": "python",
   "name": "python3"
  },
  "language_info": {
   "codemirror_mode": {
    "name": "ipython",
    "version": 3
   },
   "file_extension": ".py",
   "mimetype": "text/x-python",
   "name": "python",
   "nbconvert_exporter": "python",
   "pygments_lexer": "ipython3",
   "version": "3.8.3"
  }
 },
 "nbformat": 4,
 "nbformat_minor": 4
}
